{
  "cells": [
    {
      "cell_type": "markdown",
      "id": "ca2414d7",
      "metadata": {
        "colab_type": "text",
        "id": "view-in-github"
      },
      "source": [
        "<a href=\"https://colab.research.google.com/github/JacobHassan/ProjektPUM/blob/main/projekt_ML.ipynb\" target=\"_parent\"><img src=\"https://colab.research.google.com/assets/colab-badge.svg\" alt=\"Open In Colab\"/></a>"
      ]
    },
    {
      "cell_type": "code",
      "execution_count": 40,
      "id": "f6fd7de6-d022-4551-9a2c-6d32cfc899e5",
      "metadata": {
        "id": "f6fd7de6-d022-4551-9a2c-6d32cfc899e5"
      },
      "outputs": [],
      "source": [
        "import pandas as pd\n",
        "import numpy as np\n",
        "from sklearn.preprocessing import LabelEncoder\n",
        "from sklearn import preprocessing"
      ]
    },
    {
      "cell_type": "code",
      "execution_count": 60,
      "id": "8b610518",
      "metadata": {},
      "outputs": [
        {
          "name": "stdout",
          "output_type": "stream",
          "text": [
            "Collecting openpyxl\n",
            "  Downloading openpyxl-3.1.2-py2.py3-none-any.whl (249 kB)\n",
            "     -------------------------------------- 250.0/250.0 KB 3.1 MB/s eta 0:00:00\n",
            "Collecting et-xmlfile\n",
            "  Downloading et_xmlfile-1.1.0-py3-none-any.whl (4.7 kB)\n",
            "Installing collected packages: et-xmlfile, openpyxl\n",
            "Successfully installed et-xmlfile-1.1.0 openpyxl-3.1.2\n",
            "Note: you may need to restart the kernel to use updated packages.\n"
          ]
        },
        {
          "name": "stderr",
          "output_type": "stream",
          "text": [
            "WARNING: You are using pip version 22.0.4; however, version 24.0 is available.\n",
            "You should consider upgrading via the 'c:\\Users\\jabko\\AppData\\Local\\Programs\\Python\\Python39\\python.exe -m pip install --upgrade pip' command.\n"
          ]
        }
      ],
      "source": [
        "pip install openpyxl"
      ]
    },
    {
      "cell_type": "code",
      "execution_count": 41,
      "id": "ac1a5a1d-9a92-445e-87df-ca01850c89b0",
      "metadata": {
        "id": "ac1a5a1d-9a92-445e-87df-ca01850c89b0"
      },
      "outputs": [],
      "source": [
        "df = pd.read_csv(r'NY-House-Dataset.csv',sep=';',\n",
        "                 index_col =  False,\n",
        "                 on_bad_lines='skip')\n",
        "\n",
        "# Display the DataFrame"
      ]
    },
    {
      "cell_type": "code",
      "execution_count": 42,
      "id": "372e17eb-2378-4f89-a638-12f63234d9f3",
      "metadata": {
        "id": "372e17eb-2378-4f89-a638-12f63234d9f3"
      },
      "outputs": [],
      "source": [
        "headers = pd.read_csv(r'NY-House-Dataset.csv', sep=';',nrows=0)\n",
        "header_names = headers.columns.tolist()"
      ]
    },
    {
      "cell_type": "code",
      "execution_count": 43,
      "id": "795025f7-23c4-4edb-97eb-e17d02e9a8ea",
      "metadata": {
        "id": "795025f7-23c4-4edb-97eb-e17d02e9a8ea"
      },
      "outputs": [],
      "source": [
        "column_rename_dict = {old_name: new_name for old_name, new_name in zip(df.columns, header_names)}\n",
        "\n",
        "# Zmień nazwy kolumn używając metody rename()\n",
        "df.rename(columns=column_rename_dict, inplace=True)"
      ]
    },
    {
      "cell_type": "code",
      "execution_count": 44,
      "id": "96a689c9-00c5-4e8f-908a-b61c873809c8",
      "metadata": {
        "id": "96a689c9-00c5-4e8f-908a-b61c873809c8"
      },
      "outputs": [],
      "source": [
        "str_col = ['BROKERTITLE', 'TYPE', 'ADDRESS', 'STATE', 'MAIN_ADDRESS', 'ADMINISTRATIVE_AREA_LEVEL_2', 'LOCALITY', 'SUBLOCALITY', 'STREET_NAME' , 'LONG_NAME', 'FORMATTED_ADDRESS']\n",
        "int_col = ['BEDS', 'BATH','PROPERTYSQFT']\n",
        "float_col = ['PRICE']"
      ]
    },
    {
      "cell_type": "code",
      "execution_count": 45,
      "id": "9NNP5onz8AG9",
      "metadata": {
        "colab": {
          "base_uri": "https://localhost:8080/"
        },
        "id": "9NNP5onz8AG9",
        "outputId": "0e204a12-d0d7-4141-b02f-74af817c53a7"
      },
      "outputs": [
        {
          "data": {
            "text/plain": [
              "(4801, 17)"
            ]
          },
          "execution_count": 45,
          "metadata": {},
          "output_type": "execute_result"
        }
      ],
      "source": [
        "df.shape"
      ]
    },
    {
      "cell_type": "code",
      "execution_count": null,
      "id": "b121e139",
      "metadata": {},
      "outputs": [],
      "source": []
    },
    {
      "cell_type": "code",
      "execution_count": 46,
      "id": "ybNtilJ48C7R",
      "metadata": {
        "colab": {
          "base_uri": "https://localhost:8080/"
        },
        "id": "ybNtilJ48C7R",
        "outputId": "e2b02f66-c1dc-405d-bf86-d36b4cb44a2a"
      },
      "outputs": [
        {
          "data": {
            "text/plain": [
              "BROKERTITLE                    False\n",
              "TYPE                           False\n",
              "PRICE                          False\n",
              "BEDS                           False\n",
              "BATH                           False\n",
              "PROPERTYSQFT                   False\n",
              "ADDRESS                        False\n",
              "STATE                          False\n",
              "MAIN_ADDRESS                   False\n",
              "ADMINISTRATIVE_AREA_LEVEL_2    False\n",
              "LOCALITY                       False\n",
              "SUBLOCALITY                    False\n",
              "STREET_NAME                    False\n",
              "LONG_NAME                      False\n",
              "FORMATTED_ADDRESS              False\n",
              "LATITUDE                       False\n",
              "LONGITUDE                      False\n",
              "dtype: bool"
            ]
          },
          "execution_count": 46,
          "metadata": {},
          "output_type": "execute_result"
        }
      ],
      "source": [
        "df.isna().any()"
      ]
    },
    {
      "cell_type": "code",
      "execution_count": 47,
      "id": "d5434179-a563-46fd-9b25-06810bb323e0",
      "metadata": {
        "id": "d5434179-a563-46fd-9b25-06810bb323e0"
      },
      "outputs": [],
      "source": [
        "df[str_col] = df[str_col].apply(lambda x: x.astype(str))"
      ]
    },
    {
      "cell_type": "code",
      "execution_count": 48,
      "id": "0cf7efc8-613b-480a-948a-65cda904d661",
      "metadata": {
        "id": "0cf7efc8-613b-480a-948a-65cda904d661"
      },
      "outputs": [],
      "source": [
        "df[int_col] = df[int_col].apply(lambda x: x.astype(int))"
      ]
    },
    {
      "cell_type": "code",
      "execution_count": 49,
      "id": "644abb2c-878c-4128-9209-1aeae91b1665",
      "metadata": {
        "id": "644abb2c-878c-4128-9209-1aeae91b1665"
      },
      "outputs": [],
      "source": [
        "df[float_col] = df[float_col].apply(lambda x: x.astype(float))"
      ]
    },
    {
      "cell_type": "code",
      "execution_count": 50,
      "id": "6b62d6ea-88cd-4ede-ac20-5d540a1ec3b2",
      "metadata": {
        "id": "6b62d6ea-88cd-4ede-ac20-5d540a1ec3b2"
      },
      "outputs": [],
      "source": [
        "df.drop_duplicates(inplace = True)"
      ]
    },
    {
      "cell_type": "code",
      "execution_count": 51,
      "id": "Y1UYVITL9Hx-",
      "metadata": {
        "colab": {
          "base_uri": "https://localhost:8080/",
          "height": 73
        },
        "id": "Y1UYVITL9Hx-",
        "outputId": "eea6c3f4-dcc7-4560-ab33-03fae3065987"
      },
      "outputs": [
        {
          "data": {
            "text/html": [
              "<div>\n",
              "<style scoped>\n",
              "    .dataframe tbody tr th:only-of-type {\n",
              "        vertical-align: middle;\n",
              "    }\n",
              "\n",
              "    .dataframe tbody tr th {\n",
              "        vertical-align: top;\n",
              "    }\n",
              "\n",
              "    .dataframe thead th {\n",
              "        text-align: right;\n",
              "    }\n",
              "</style>\n",
              "<table border=\"1\" class=\"dataframe\">\n",
              "  <thead>\n",
              "    <tr style=\"text-align: right;\">\n",
              "      <th></th>\n",
              "      <th>BROKERTITLE</th>\n",
              "      <th>TYPE</th>\n",
              "      <th>PRICE</th>\n",
              "      <th>BEDS</th>\n",
              "      <th>BATH</th>\n",
              "      <th>PROPERTYSQFT</th>\n",
              "      <th>ADDRESS</th>\n",
              "      <th>STATE</th>\n",
              "      <th>MAIN_ADDRESS</th>\n",
              "      <th>ADMINISTRATIVE_AREA_LEVEL_2</th>\n",
              "      <th>LOCALITY</th>\n",
              "      <th>SUBLOCALITY</th>\n",
              "      <th>STREET_NAME</th>\n",
              "      <th>LONG_NAME</th>\n",
              "      <th>FORMATTED_ADDRESS</th>\n",
              "      <th>LATITUDE</th>\n",
              "      <th>LONGITUDE</th>\n",
              "    </tr>\n",
              "  </thead>\n",
              "  <tbody>\n",
              "  </tbody>\n",
              "</table>\n",
              "</div>"
            ],
            "text/plain": [
              "Empty DataFrame\n",
              "Columns: [BROKERTITLE, TYPE, PRICE, BEDS, BATH, PROPERTYSQFT, ADDRESS, STATE, MAIN_ADDRESS, ADMINISTRATIVE_AREA_LEVEL_2, LOCALITY, SUBLOCALITY, STREET_NAME, LONG_NAME, FORMATTED_ADDRESS, LATITUDE, LONGITUDE]\n",
              "Index: []"
            ]
          },
          "execution_count": 51,
          "metadata": {},
          "output_type": "execute_result"
        }
      ],
      "source": [
        "df.loc[df['BATH'] <0]"
      ]
    },
    {
      "cell_type": "code",
      "execution_count": 52,
      "id": "vW5ltfIM9M63",
      "metadata": {
        "colab": {
          "base_uri": "https://localhost:8080/",
          "height": 73
        },
        "id": "vW5ltfIM9M63",
        "outputId": "4a4940d4-58a7-4a8b-cdb7-35d335ca94b3"
      },
      "outputs": [
        {
          "data": {
            "text/html": [
              "<div>\n",
              "<style scoped>\n",
              "    .dataframe tbody tr th:only-of-type {\n",
              "        vertical-align: middle;\n",
              "    }\n",
              "\n",
              "    .dataframe tbody tr th {\n",
              "        vertical-align: top;\n",
              "    }\n",
              "\n",
              "    .dataframe thead th {\n",
              "        text-align: right;\n",
              "    }\n",
              "</style>\n",
              "<table border=\"1\" class=\"dataframe\">\n",
              "  <thead>\n",
              "    <tr style=\"text-align: right;\">\n",
              "      <th></th>\n",
              "      <th>BROKERTITLE</th>\n",
              "      <th>TYPE</th>\n",
              "      <th>PRICE</th>\n",
              "      <th>BEDS</th>\n",
              "      <th>BATH</th>\n",
              "      <th>PROPERTYSQFT</th>\n",
              "      <th>ADDRESS</th>\n",
              "      <th>STATE</th>\n",
              "      <th>MAIN_ADDRESS</th>\n",
              "      <th>ADMINISTRATIVE_AREA_LEVEL_2</th>\n",
              "      <th>LOCALITY</th>\n",
              "      <th>SUBLOCALITY</th>\n",
              "      <th>STREET_NAME</th>\n",
              "      <th>LONG_NAME</th>\n",
              "      <th>FORMATTED_ADDRESS</th>\n",
              "      <th>LATITUDE</th>\n",
              "      <th>LONGITUDE</th>\n",
              "    </tr>\n",
              "  </thead>\n",
              "  <tbody>\n",
              "  </tbody>\n",
              "</table>\n",
              "</div>"
            ],
            "text/plain": [
              "Empty DataFrame\n",
              "Columns: [BROKERTITLE, TYPE, PRICE, BEDS, BATH, PROPERTYSQFT, ADDRESS, STATE, MAIN_ADDRESS, ADMINISTRATIVE_AREA_LEVEL_2, LOCALITY, SUBLOCALITY, STREET_NAME, LONG_NAME, FORMATTED_ADDRESS, LATITUDE, LONGITUDE]\n",
              "Index: []"
            ]
          },
          "execution_count": 52,
          "metadata": {},
          "output_type": "execute_result"
        }
      ],
      "source": [
        "df.loc[df['PRICE'] <0]"
      ]
    },
    {
      "cell_type": "code",
      "execution_count": 53,
      "id": "JiOISkgk9Nc9",
      "metadata": {
        "colab": {
          "base_uri": "https://localhost:8080/",
          "height": 73
        },
        "id": "JiOISkgk9Nc9",
        "outputId": "9cb72565-1696-443a-ecb7-092adda12abf"
      },
      "outputs": [
        {
          "data": {
            "text/html": [
              "<div>\n",
              "<style scoped>\n",
              "    .dataframe tbody tr th:only-of-type {\n",
              "        vertical-align: middle;\n",
              "    }\n",
              "\n",
              "    .dataframe tbody tr th {\n",
              "        vertical-align: top;\n",
              "    }\n",
              "\n",
              "    .dataframe thead th {\n",
              "        text-align: right;\n",
              "    }\n",
              "</style>\n",
              "<table border=\"1\" class=\"dataframe\">\n",
              "  <thead>\n",
              "    <tr style=\"text-align: right;\">\n",
              "      <th></th>\n",
              "      <th>BROKERTITLE</th>\n",
              "      <th>TYPE</th>\n",
              "      <th>PRICE</th>\n",
              "      <th>BEDS</th>\n",
              "      <th>BATH</th>\n",
              "      <th>PROPERTYSQFT</th>\n",
              "      <th>ADDRESS</th>\n",
              "      <th>STATE</th>\n",
              "      <th>MAIN_ADDRESS</th>\n",
              "      <th>ADMINISTRATIVE_AREA_LEVEL_2</th>\n",
              "      <th>LOCALITY</th>\n",
              "      <th>SUBLOCALITY</th>\n",
              "      <th>STREET_NAME</th>\n",
              "      <th>LONG_NAME</th>\n",
              "      <th>FORMATTED_ADDRESS</th>\n",
              "      <th>LATITUDE</th>\n",
              "      <th>LONGITUDE</th>\n",
              "    </tr>\n",
              "  </thead>\n",
              "  <tbody>\n",
              "  </tbody>\n",
              "</table>\n",
              "</div>"
            ],
            "text/plain": [
              "Empty DataFrame\n",
              "Columns: [BROKERTITLE, TYPE, PRICE, BEDS, BATH, PROPERTYSQFT, ADDRESS, STATE, MAIN_ADDRESS, ADMINISTRATIVE_AREA_LEVEL_2, LOCALITY, SUBLOCALITY, STREET_NAME, LONG_NAME, FORMATTED_ADDRESS, LATITUDE, LONGITUDE]\n",
              "Index: []"
            ]
          },
          "execution_count": 53,
          "metadata": {},
          "output_type": "execute_result"
        }
      ],
      "source": [
        "df.loc[df['BEDS']<0]"
      ]
    },
    {
      "cell_type": "code",
      "execution_count": 54,
      "id": "FKF_RcYs9NtB",
      "metadata": {
        "colab": {
          "base_uri": "https://localhost:8080/",
          "height": 73
        },
        "id": "FKF_RcYs9NtB",
        "outputId": "6d2212f7-4131-4bb6-a946-c390ff866b33"
      },
      "outputs": [
        {
          "data": {
            "text/html": [
              "<div>\n",
              "<style scoped>\n",
              "    .dataframe tbody tr th:only-of-type {\n",
              "        vertical-align: middle;\n",
              "    }\n",
              "\n",
              "    .dataframe tbody tr th {\n",
              "        vertical-align: top;\n",
              "    }\n",
              "\n",
              "    .dataframe thead th {\n",
              "        text-align: right;\n",
              "    }\n",
              "</style>\n",
              "<table border=\"1\" class=\"dataframe\">\n",
              "  <thead>\n",
              "    <tr style=\"text-align: right;\">\n",
              "      <th></th>\n",
              "      <th>BROKERTITLE</th>\n",
              "      <th>TYPE</th>\n",
              "      <th>PRICE</th>\n",
              "      <th>BEDS</th>\n",
              "      <th>BATH</th>\n",
              "      <th>PROPERTYSQFT</th>\n",
              "      <th>ADDRESS</th>\n",
              "      <th>STATE</th>\n",
              "      <th>MAIN_ADDRESS</th>\n",
              "      <th>ADMINISTRATIVE_AREA_LEVEL_2</th>\n",
              "      <th>LOCALITY</th>\n",
              "      <th>SUBLOCALITY</th>\n",
              "      <th>STREET_NAME</th>\n",
              "      <th>LONG_NAME</th>\n",
              "      <th>FORMATTED_ADDRESS</th>\n",
              "      <th>LATITUDE</th>\n",
              "      <th>LONGITUDE</th>\n",
              "    </tr>\n",
              "  </thead>\n",
              "  <tbody>\n",
              "  </tbody>\n",
              "</table>\n",
              "</div>"
            ],
            "text/plain": [
              "Empty DataFrame\n",
              "Columns: [BROKERTITLE, TYPE, PRICE, BEDS, BATH, PROPERTYSQFT, ADDRESS, STATE, MAIN_ADDRESS, ADMINISTRATIVE_AREA_LEVEL_2, LOCALITY, SUBLOCALITY, STREET_NAME, LONG_NAME, FORMATTED_ADDRESS, LATITUDE, LONGITUDE]\n",
              "Index: []"
            ]
          },
          "execution_count": 54,
          "metadata": {},
          "output_type": "execute_result"
        }
      ],
      "source": [
        "df.loc[df['PROPERTYSQFT']<0]"
      ]
    },
    {
      "cell_type": "code",
      "execution_count": 55,
      "id": "b2bff8be-9e5c-4347-85e2-49f62068d38f",
      "metadata": {
        "id": "b2bff8be-9e5c-4347-85e2-49f62068d38f"
      },
      "outputs": [],
      "source": [
        "df['FORMATTED_ADDRESS'] = df['FORMATTED_ADDRESS'].apply(lambda x: x.replace('#', ''))\n"
      ]
    },
    {
      "cell_type": "code",
      "execution_count": 56,
      "id": "wFkUR7lT2PJR",
      "metadata": {
        "id": "wFkUR7lT2PJR"
      },
      "outputs": [],
      "source": [
        "le = LabelEncoder()"
      ]
    },
    {
      "cell_type": "code",
      "execution_count": 57,
      "id": "rFNuOYUf3gg1",
      "metadata": {
        "id": "rFNuOYUf3gg1"
      },
      "outputs": [],
      "source": [
        "columns_to_encode = ['TYPE', 'STATE', 'ADMINISTRATIVE_AREA_LEVEL_2', 'LOCALITY', 'SUBLOCALITY', 'STREET_NAME']\n"
      ]
    },
    {
      "cell_type": "code",
      "execution_count": 58,
      "id": "XQCxCrId3iNe",
      "metadata": {
        "id": "XQCxCrId3iNe"
      },
      "outputs": [],
      "source": [
        "df[columns_to_encode] = df[columns_to_encode].apply(LabelEncoder().fit_transform)"
      ]
    },
    {
      "cell_type": "code",
      "execution_count": 63,
      "id": "EP9ULioP-ONJ",
      "metadata": {
        "id": "EP9ULioP-ONJ"
      },
      "outputs": [],
      "source": [
        "df.to_excel('test.xlsx')"
      ]
    },
    {
      "cell_type": "code",
      "execution_count": 24,
      "id": "cX0RkR1LZ_Ky",
      "metadata": {
        "id": "cX0RkR1LZ_Ky"
      },
      "outputs": [],
      "source": [
        "\n",
        "#num_columns = ['BEDS', 'BATH','PROPERTYSQFT', 'PRICE']\n",
        "\n",
        "#for column in num_columns:\n",
        " #   df[column] = np.abs(df[column])\n",
        "  #  Q1 = df[column].quantile(0.25)\n",
        "   # Q3 = df[column].quantile(0.75)\n",
        "    #IQR = Q3 - Q1\n",
        "    #df = df.drop(df.loc[df[column] > (Q3 + 1.5 * IQR)].index)\n",
        "    #df = df.drop(df.loc[df[column] < (Q1 - 1.5 * IQR)].index)"
      ]
    },
    {
      "cell_type": "code",
      "execution_count": 36,
      "id": "OZv8KI3McBgz",
      "metadata": {
        "id": "OZv8KI3McBgz"
      },
      "outputs": [],
      "source": [
        "\n",
        "# Wybierz tylko kolumny numeryczne\n",
        "numeric_columns = ['BEDS', 'BATH', 'PROPERTYSQFT', 'PRICE']\n",
        "df_numeric = df[numeric_columns]\n",
        "\n",
        "# Dopasuj skalowanie do kolumn numerycznych\n",
        "scaler = preprocessing.StandardScaler().fit(df_numeric)\n",
        "\n",
        "# Przekształć kolumny numeryczne\n",
        "df_scaled = pd.DataFrame(scaler.transform(df_numeric), columns=numeric_columns)\n",
        "\n",
        "# Zamień oryginalne kolumny numeryczne na przeskalowane\n",
        "df[numeric_columns] = df_scaled"
      ]
    },
    {
      "cell_type": "code",
      "execution_count": 37,
      "id": "c44c2320",
      "metadata": {},
      "outputs": [],
      "source": [
        "X = df[['BATH', 'BEDS', 'PROPERTYSQFT']]\n",
        "y = df['PRICE']"
      ]
    },
    {
      "cell_type": "code",
      "execution_count": 66,
      "id": "2da281c2",
      "metadata": {},
      "outputs": [],
      "source": [
        "X = X.dropna()\n",
        "y = y[X.index]\n"
      ]
    },
    {
      "cell_type": "code",
      "execution_count": 73,
      "id": "abc80cf9",
      "metadata": {},
      "outputs": [
        {
          "data": {
            "text/plain": [
              "BROKERTITLE                     object\n",
              "TYPE                             int32\n",
              "PRICE                          float64\n",
              "BEDS                             int32\n",
              "BATH                             int32\n",
              "PROPERTYSQFT                     int32\n",
              "ADDRESS                         object\n",
              "STATE                            int32\n",
              "MAIN_ADDRESS                    object\n",
              "ADMINISTRATIVE_AREA_LEVEL_2      int32\n",
              "LOCALITY                         int32\n",
              "SUBLOCALITY                      int32\n",
              "STREET_NAME                      int32\n",
              "LONG_NAME                       object\n",
              "FORMATTED_ADDRESS               object\n",
              "LATITUDE                       float64\n",
              "LONGITUDE                      float64\n",
              "dtype: object"
            ]
          },
          "execution_count": 73,
          "metadata": {},
          "output_type": "execute_result"
        }
      ],
      "source": [
        "df.dtypes"
      ]
    },
    {
      "cell_type": "code",
      "execution_count": 67,
      "id": "683d7d72",
      "metadata": {},
      "outputs": [],
      "source": [
        "from sklearn.model_selection import train_test_split\n",
        "from sklearn.linear_model import LinearRegression\n",
        "X_train, X_test, y_train, y_test = train_test_split(X, y, test_size=0.2, random_state=42)\n",
        "reg = LinearRegression().fit(X_train, y_train)\n",
        "\n",
        "\n",
        "reg.coef_\n",
        "reg.intercept_\n",
        "y_predict = reg.predict(X_test)"
      ]
    },
    {
      "cell_type": "code",
      "execution_count": 74,
      "id": "0189c4d9",
      "metadata": {},
      "outputs": [
        {
          "name": "stdout",
          "output_type": "stream",
          "text": [
            "[-4.04649262e-02 -1.00249326e-01  1.29689109e-02  9.26981277e-02\n",
            " -1.97317278e-03  3.95646185e-03  7.55156169e-02 -4.98822382e-02\n",
            " -1.97317278e-03 -8.28388283e-02 -2.37537134e-02  1.29689109e-02\n",
            "  1.88985455e-02  1.88985455e-02 -1.85401710e-02  1.39661311e-01\n",
            "  2.53006956e-01 -5.05598718e-03  7.87328569e-03 -1.69152564e-02\n",
            " -8.35718873e-02 -6.95141827e-02  8.73647461e-04  1.88985455e-02\n",
            "  1.75475113e-01 -7.30516993e-02  1.04540219e-01 -7.94781876e-02\n",
            "  1.29689109e-02 -1.69152564e-02 -4.69837761e-02 -6.87984613e-02\n",
            " -4.87525344e-02  3.95646185e-03  8.74241435e-02 -3.04753656e-02\n",
            "  1.88985455e-02 -1.29467241e-01  1.29689109e-02 -1.09856218e-02\n",
            "  1.43367485e-01  7.21460165e-02  1.86115998e-02 -1.99980708e-02\n",
            " -2.59277055e-02  1.01659465e-01 -7.38437168e-02  1.88985455e-02\n",
            " -4.10879152e-02  3.95646185e-03 -8.96701796e-02  1.29689109e-02\n",
            " -3.91021795e-03 -5.50355498e-02  3.95646185e-03 -1.26519310e-01\n",
            "  1.88985455e-02 -1.07357762e-01 -1.85401710e-02 -7.15777340e-02\n",
            "  3.07578148e-02  1.29689109e-02  3.71921504e-02  1.29689109e-02\n",
            " -7.64968542e-02  4.04603750e-01 -1.71841230e-02  3.95646185e-03\n",
            " -1.30941206e-01 -1.43380444e-02  4.64656187e-02  9.76780846e-03\n",
            " -2.45795048e-02  5.40130623e-02 -7.49305274e-02 -7.15777340e-02\n",
            " -3.91167255e-02 -1.69152564e-02 -2.59277055e-02 -2.34081799e-02\n",
            "  6.63356226e-02  1.29689109e-02 -5.99546700e-02  5.08882560e-02\n",
            " -7.48794161e-02  7.84308860e-02 -3.80229689e-02  9.40050882e-01\n",
            " -1.97317278e-03  2.79192127e-02  9.68752292e-02  2.93676222e-02\n",
            "  1.29689109e-02  2.67603135e-01  9.88609649e-03 -8.19544492e-02\n",
            "  3.95646185e-03  3.09429087e-02  4.64070310e-02 -5.68380819e-02\n",
            "  6.39259559e-02  3.95646185e-03 -1.97317278e-03  1.05517331e-01\n",
            " -1.99980708e-02  8.91355822e-04 -7.17801655e-02 -8.16596561e-02\n",
            " -6.04263389e-02 -3.56971262e-02  3.07578148e-02 -3.20338451e-02\n",
            "  1.29689109e-02 -1.69152564e-02 -5.37974190e-02  2.48281802e-02\n",
            " -8.06239568e-02 -1.09856218e-02 -1.69152564e-02  3.95646185e-03\n",
            "  4.66078195e-02 -5.07315714e-02  1.29689109e-02 -4.56198808e-02\n",
            "  3.95646185e-03 -5.38229747e-02 -1.96269816e-02  1.29689109e-02\n",
            " -3.42487166e-02  1.29689109e-02 -1.78807885e-03 -3.43076752e-02\n",
            " -7.45256645e-02 -1.71841230e-02 -1.87681582e-02 -7.92423532e-02\n",
            " -3.59663636e-02 -1.30941206e-01  1.44510942e-02 -3.75503987e-02\n",
            " -1.24674343e-02  1.29689109e-02  2.48281802e-02 -8.06239568e-02\n",
            "  3.07578148e-02  1.29689109e-02 -5.38563777e-02  3.95646185e-03\n",
            " -7.33464923e-02 -6.78295679e-02 -3.91167255e-02  1.29689109e-02\n",
            "  8.73647461e-04  6.33186614e-02 -7.86527671e-02  1.33934108e-01\n",
            "  3.97702638e-02 -1.97317278e-03 -7.29927406e-02 -6.56818732e-02\n",
            "  8.47108988e-03 -3.06522415e-02  3.38406292e-02 -8.06239568e-02\n",
            "  4.26170841e-02  1.29689109e-02 -2.06289072e-02 -4.21995399e-02\n",
            "  1.40099737e-01 -5.73604912e-02 -6.70297031e-02  1.29689109e-02\n",
            "  2.48281802e-02 -1.59377741e-02 -1.33773691e-02 -4.53663380e-02\n",
            "  2.63704020e-01 -1.97317278e-03 -4.46254317e-02 -7.15777340e-02\n",
            " -6.56818732e-02 -1.97317278e-03 -4.32693837e-02  1.88985455e-02\n",
            "  3.95646185e-03  6.23596291e-02 -5.40588091e-02  1.29689109e-02\n",
            " -5.26438025e-02 -3.18573401e-02 -7.68840088e-02  3.07578148e-02\n",
            "  1.29689109e-02  1.88985455e-02  5.52845960e-02 -1.14235169e-02\n",
            " -7.15777340e-02  1.16921156e-01 -1.67016163e-03 -5.26438025e-02\n",
            "  8.77118308e-02 -2.59277055e-02 -3.63712265e-02  2.17453658e-02\n",
            " -6.86298036e-02 -7.74735949e-02  1.81843173e-01 -3.16968251e-03\n",
            "  2.45746374e-02 -2.18670380e-02 -9.53636090e-02  9.62197899e-02\n",
            "  3.73904328e+00 -6.77120215e-02 -2.30894742e-02  1.07570813e-03\n",
            " -1.69152564e-02 -7.59406711e-02 -7.56458780e-02 -7.69195853e-02\n",
            "  1.88985455e-02 -1.69152564e-02  1.19240921e-02 -4.93421204e-02\n",
            " -2.69378491e-02  1.29689109e-02 -3.13553793e-03 -3.12162719e-02\n",
            " -1.97317278e-03  2.23451515e-01  9.88609649e-03 -7.30516993e-02\n",
            " -7.35489238e-02 -3.10649517e-02 -8.06239568e-02  1.29689109e-02\n",
            "  2.85507906e-02  3.95646185e-03  1.29689109e-02  2.48281802e-02\n",
            "  1.88985455e-02 -1.16201554e-01 -6.89192215e-03 -1.69152564e-02\n",
            " -1.09856218e-02  1.29689109e-02  7.84773003e-03 -8.31843619e-02\n",
            " -1.09856218e-02  3.97702638e-02  3.38406292e-02 -1.86437501e-03\n",
            " -3.81399848e-02 -5.16159505e-02 -4.74554450e-02  4.29281022e-02\n",
            "  1.90754512e-01  6.26710690e-01  3.38406292e-02 -1.69152564e-02\n",
            " -1.78807885e-03 -3.12162719e-02 -3.91167255e-02 -2.03678879e-02\n",
            " -5.68043081e-02 -9.18260925e-02  1.29689109e-02  1.74263439e-01\n",
            " -1.65100227e-02 -3.91167255e-02 -1.97317278e-03 -5.28206784e-02\n",
            "  4.83011829e-02 -1.33773691e-02  1.40336313e-01 -7.14008582e-02\n",
            " -1.69152564e-02 -1.72686373e-02 -1.16201554e-01 -8.94677481e-02\n",
            " -1.72859748e-02 -4.54174493e-02  3.46490830e-02  7.71361713e-01\n",
            " -6.27339427e-02  1.37792874e-01 -3.30105858e-02 -7.42217882e-03\n",
            " -4.10207385e-02 -3.22107210e-02 -6.92033243e-02 -2.59277055e-02\n",
            " -5.99546700e-02 -5.74528528e-02  7.99979182e-03  1.29689109e-02\n",
            " -5.05598718e-03  3.95504948e-02 -1.03289618e-01  1.52175561e-02\n",
            " -4.69837761e-02  2.48281802e-02  7.59201091e-02 -1.69152564e-02\n",
            " -4.56870575e-02  3.95646185e-03  3.95646185e-03  4.56998985e-02\n",
            "  1.88985455e-02 -8.51382140e-02  1.08315053e-01 -6.07643959e-02\n",
            " -8.56606234e-02 -7.15777340e-02  2.48281802e-02 -8.42204320e-02\n",
            " -5.89523737e-02  4.56998985e-02 -5.27361641e-02  6.23337026e-02\n",
            "  2.59389035e-02 -8.37743187e-02 -1.69152564e-02 -7.62020612e-02\n",
            "  3.60467520e-02 -1.69152564e-02  3.95646185e-03  3.95646185e-03\n",
            " -1.33773691e-02  2.17453658e-02 -7.32875337e-02  8.70369889e-02\n",
            "  4.10401256e-01 -4.22670874e-02  8.53451087e-02  8.20148168e-03\n",
            " -3.59840719e-02  1.26565554e-01  1.25562516e-01 -7.59996297e-02\n",
            " -1.69152564e-02 -1.09856218e-02  1.88985455e-02 -1.97317278e-03\n",
            " -1.97317278e-03 -1.97317278e-03  1.02854703e-01 -3.35412133e-02\n",
            "  2.44339299e-01 -5.99546700e-02  6.64337301e-03 -7.53016166e-02\n",
            "  3.38406292e-02  1.15422377e-01 -1.97317278e-03  1.88985455e-02\n",
            " -5.73683385e-02 -6.56818732e-02 -6.56818732e-02 -7.45256645e-02\n",
            " -1.40684362e-02 -1.88011903e-02 -6.27001690e-02  1.37435909e-02\n",
            " -5.32667916e-02 -2.15132863e-02  2.45082023e-02 -1.97317278e-03\n",
            "  7.43820967e-02  3.95646185e-03  3.95646185e-03  2.89556536e-02\n",
            " -1.97317278e-03  9.88609649e-03 -7.74146363e-02  1.29689109e-02\n",
            " -3.99087430e-02 -1.10697653e-02  1.29689109e-02  2.48281802e-02\n",
            "  3.44804252e-02 -6.36104746e-02 -4.30846606e-02 -4.89628131e-02\n",
            " -7.85014469e-02 -2.50763585e-02 -2.97851999e-02  7.44539912e-02\n",
            "  8.73647461e-04  1.29689109e-02  1.29689109e-02  1.29689109e-02\n",
            " -6.27339427e-02  3.64178412e-02 -1.97317278e-03 -7.15777340e-02\n",
            " -2.08651124e-02 -6.51512457e-02 -3.02729342e-02  7.17084922e-02\n",
            "  4.54604794e-03 -8.35718873e-02 -7.15777340e-02 -1.97317278e-03\n",
            " -9.63742111e-03  1.99463208e-01 -7.62020612e-02 -2.59277055e-02\n",
            "  1.29689109e-02 -7.04575205e-02  2.50623056e-01  9.88609649e-03\n",
            " -1.40684362e-02  6.60588019e-06 -7.45256645e-02 -4.36899413e-02\n",
            " -6.31718378e-02 -4.83987827e-02 -1.97317278e-03 -4.36820940e-02\n",
            " -5.89861474e-02  9.67580536e-02  5.90072065e-02  3.08166658e-01\n",
            " -2.90105199e-02 -1.01936042e-02  3.95646185e-03 -1.69152564e-02\n",
            " -8.45659655e-02  1.88985455e-02 -1.48513343e-02 -1.09856218e-02\n",
            "  1.10822864e-01  1.29689109e-02  3.19721062e-01  7.37127141e-02\n",
            " -1.97317278e-03 -3.75503987e-02 -1.27877830e-02  1.29689109e-02\n",
            " -8.27798697e-02 -8.94677481e-02 -1.32120378e-01  3.95646185e-03\n",
            "  3.83713226e-02 -5.32559537e-03 -3.96650613e-02  1.36445045e-01\n",
            "  7.65005757e-02 -5.25341034e-02 -4.52736056e-02  4.42841502e-02\n",
            " -2.59277055e-02  1.88985455e-02 -8.13880157e-03 -4.50125863e-02\n",
            " -5.68043081e-02 -1.98294131e-02  3.95646185e-03 -1.09856218e-02\n",
            " -5.27951227e-02 -1.97317278e-03  1.29689109e-02 -1.99980708e-02\n",
            "  3.65861281e-02  9.68403582e-03 -7.70782222e-02 -4.63686343e-02\n",
            "  1.56373796e-01 -2.18340058e-02  5.10065441e-02 -7.74735949e-02\n",
            " -6.02750187e-02 -1.10445804e-02  1.29689109e-02  8.76528722e-02\n",
            "  3.95646185e-03 -9.62287516e-04  9.38101232e-02 -6.80575551e-02\n",
            "  2.48281802e-02  1.88985455e-02  8.05016151e-03 -9.96061279e-04\n",
            " -7.32541307e-02  1.29689109e-02  1.88985455e-02 -7.57048366e-02\n",
            "  3.24329393e-02 -3.04753656e-02 -1.69152564e-02 -1.90963542e-02\n",
            "  1.88985455e-02 -3.34410044e-02 -1.69152564e-02  1.20345329e-02\n",
            " -1.00080298e-01 -1.97317278e-03  6.99712466e-03  1.49313520e-02\n",
            "  3.95646185e-03 -3.59919192e-02  3.07578148e-02 -6.56818732e-02\n",
            " -4.08697891e-02 -7.48794161e-02  1.29689109e-02  2.66555262e-02\n",
            " -5.13801161e-02  8.73647461e-04 -4.70761377e-02 -1.69152564e-02\n",
            " -3.66660196e-02 -6.26893311e-03  3.95646185e-03 -8.63429419e-02\n",
            " -6.98089758e-02  3.95646185e-03 -2.68038665e-02 -1.12781954e-01\n",
            "  1.29689109e-02  3.95646185e-03 -7.98319393e-02  7.22327292e-04\n",
            "  4.89835014e-02 -6.56818732e-02  3.95646185e-03  3.31512784e-01\n",
            " -7.68840088e-02 -7.57048366e-02  5.41375547e-02 -7.47280960e-02\n",
            "  4.65384453e-01 -7.76760264e-02 -1.16420138e-02 -2.92961935e-02\n",
            " -5.95753627e-02 -3.49401545e-02 -7.85938085e-02 -3.99087430e-02\n",
            "  1.29689109e-02 -8.03881224e-02 -7.65302572e-02 -8.06239568e-02\n",
            " -5.05212926e-02 -5.35203344e-02  8.95395477e-02 -3.63712265e-02\n",
            "  1.29689109e-02 -5.70067396e-02  1.87772808e-01 -7.76760264e-02\n",
            " -1.16024678e-01  8.13698567e-02  1.29689109e-02 -4.41714712e-02\n",
            " -1.69152564e-02 -3.57816404e-02 -1.69152564e-02 -1.46666112e-02\n",
            " -2.53459667e-02  1.06376154e-01 -1.69152564e-02 -5.40588091e-02\n",
            " -7.75325535e-02  3.74618308e-03 -1.97317278e-03  3.95646185e-03\n",
            " -3.95294357e-02 -3.04753656e-02 -2.46970512e-02 -5.35871403e-02\n",
            "  1.83469356e-03 -4.76323208e-02  5.27372293e-04  3.95646185e-03\n",
            "  2.19180409e-01 -2.90105199e-02  5.83756285e-02 -4.26542420e-02\n",
            " -1.25696570e-02 -6.56818732e-02  1.88985455e-02  3.38406292e-02\n",
            "  1.29689109e-02  1.96701484e-01  8.77487209e-01  3.95646185e-03\n",
            " -2.18340058e-02 -9.26797486e-03 -5.05598718e-03 -1.97317278e-03\n",
            "  2.69043697e-01 -8.35718873e-02  3.07578148e-02 -1.32338962e-02\n",
            "  3.97464878e-01 -5.23824124e-02  1.29689109e-02  1.88985455e-02\n",
            "  2.79462404e-01 -7.17801655e-02 -3.02729342e-02 -3.66404639e-02\n",
            " -1.55686987e-02 -5.04367783e-02 -4.48946691e-02  3.95646185e-03\n",
            " -1.97317278e-03  8.17629684e-03 -1.22628042e-01 -4.22670874e-02\n",
            "  1.66915213e-02 -1.97317278e-03 -3.91167255e-02 -7.61175469e-02\n",
            "  1.58157311e-02 -2.90105199e-02 -5.95675154e-02 -1.17734477e-01\n",
            "  2.16440445e-02  1.88985455e-02 -3.99087430e-02  1.88985455e-02\n",
            "  3.95646185e-03 -7.17801655e-02 -4.20646559e-02 -1.97317278e-03\n",
            "  4.69736811e-03  6.77248625e-02  1.29689109e-02 -7.15777340e-02\n",
            " -1.97317278e-03 -1.22451166e-01  3.95646185e-03  1.88985455e-02\n",
            " -3.92936013e-02 -1.69152564e-02  1.29689109e-02 -7.17801655e-02\n",
            "  1.92977973e-01 -5.97860123e-02 -8.03481443e-02 -2.59277055e-02\n",
            " -7.74735949e-02  1.88985455e-02 -2.59277055e-02  1.29689109e-02\n",
            " -5.72429448e-02  3.43791040e-02  2.45337579e-02  3.95646185e-03\n",
            " -4.22670874e-02 -8.82885760e-02  1.29689109e-02 -7.27569062e-02\n",
            "  2.58052917e-02 -6.13028707e-02  8.73647461e-04 -6.86298036e-02\n",
            "  4.65579803e-02  1.58157311e-02 -1.97317278e-03  3.95646185e-03\n",
            " -1.69152564e-02  1.29689109e-02  9.90986896e-02 -6.27339427e-02\n",
            " -7.53176820e-02 -7.17801655e-02  7.90704710e-02  1.29689109e-02\n",
            "  7.55152461e-02  4.60348157e-01 -1.16201554e-01 -1.99980708e-02\n",
            "  3.65413984e-01 -1.97317278e-03 -8.37743187e-02  1.58157311e-02\n",
            " -3.91167255e-02  9.88609649e-03  1.88985455e-02 -3.91167255e-02\n",
            "  2.35445879e-01 -3.63712265e-02 -4.15427049e-03 -8.51720754e-03\n",
            "  2.25873822e-02  3.95646185e-03 -1.69152564e-02 -4.80784340e-02\n",
            " -1.97317278e-03  1.23879014e-01  1.29689109e-02  1.29689109e-02\n",
            "  1.38029080e-01 -7.17801655e-02  1.43722509e-01 -7.47280960e-02\n",
            " -1.09856218e-02  3.95646185e-03  3.95646185e-03  1.88985455e-02\n",
            " -3.99087430e-02  8.49734375e-02 -1.24278883e-01 -1.69152564e-02\n",
            " -9.77219534e-02  3.95646185e-03 -4.50971006e-02  3.95646185e-03\n",
            " -4.08697891e-02 -4.83987827e-02 -5.05598718e-03 -1.40251722e-02\n",
            " -5.02264996e-02 -1.67124542e-02  3.95646185e-03 -1.16555305e-01\n",
            " -3.16879408e-02  3.07578148e-02  6.05311706e-02 -5.05598718e-03\n",
            " -1.88860754e-02 -4.07007606e-02  3.95646185e-03 -7.02216860e-02\n",
            " -3.04753656e-02  1.11332164e+00 -1.25853515e-02  1.29689109e-02\n",
            " -6.58843046e-02 -1.69152564e-02 -7.07539565e-02 -2.59277055e-02\n",
            " -6.44355243e-02 -2.16315743e-02 -3.10649517e-02 -5.55327744e-02\n",
            " -4.44407086e-02 -5.40588091e-02  1.29689109e-02 -1.69152564e-02\n",
            " -7.17801655e-02 -2.31055396e-02  4.07473753e-02 -8.50458525e-02\n",
            " -6.42586484e-02  1.99058345e-01  3.95646185e-03 -9.67452127e-02\n",
            " -8.02112466e-02 -7.89475601e-02  3.10263106e-02 -3.48966040e-03\n",
            " -1.97317278e-03 -9.81429693e-03 -5.29719985e-02 -1.09856218e-02\n",
            "  6.53409625e-02 -1.69152564e-02  5.20670574e-02  2.35310908e-02\n",
            "  3.95646185e-03 -1.99980708e-02 -1.97317278e-03  1.88985455e-02\n",
            " -1.69152564e-02 -7.45256645e-02 -7.95371462e-02 -3.41307994e-02\n",
            " -8.30692876e-03  1.37016922e-01  1.88985455e-02 -6.27339427e-02\n",
            "  8.52611249e-02 -7.74735949e-02 -5.61223604e-02 -6.14879646e-02\n",
            "  1.29689109e-02  1.88985455e-02 -3.37137237e-03  1.38029080e-01\n",
            " -1.54998790e-02 -1.69152564e-02  4.44692442e-02 -3.63712265e-02\n",
            "  2.17453658e-02  4.01565171e-02  1.66915213e-02  1.39958616e-02\n",
            " -8.06239568e-02 -6.89192215e-03 -1.04578119e-01  1.07956605e-02\n",
            " -5.38229747e-02 -4.11724295e-02  5.64893239e-02  5.62193747e-01\n",
            "  3.13132563e-02 -3.46948298e-02  1.29689109e-02 -7.59089111e-02\n",
            " -1.12214562e-02  2.19465251e-02 -7.17801655e-02  3.95646185e-03\n",
            " -2.84704021e-02  7.44286706e-03 -3.76349130e-02  3.38406292e-02\n",
            " -6.63016125e-03 -1.69152564e-02 -7.76760264e-02 -6.58249752e-02\n",
            " -6.30712582e-02 -4.79605168e-02  2.90732000e-02 -2.59277055e-02\n",
            "  3.80352793e-02 -1.07910376e-02  1.29689109e-02  6.37742649e-02\n",
            "  1.29689109e-02 -4.93755234e-02 -1.27540093e-02  1.29689109e-02\n",
            " -1.70406501e-02 -7.32541307e-02 -2.92465140e-02  3.08415874e-02\n",
            " -4.44230003e-02  1.29689109e-02 -7.74735949e-02 -5.17004648e-02\n",
            " -3.07112001e-02 -9.14723408e-02 -3.41307994e-02 -4.50125863e-02\n",
            " -7.47280960e-02 -1.69152564e-02 -5.21721337e-02 -9.36872123e-02\n",
            "  4.48992920e-02 -6.88322351e-02  1.86964848e-02  4.00057573e-01\n",
            "  1.35761825e-01  3.95646185e-03 -4.08697891e-02  3.46404941e-02\n",
            " -5.40588091e-02  4.18750654e-02  1.88985455e-02 -1.97317278e-03\n",
            "  4.69380292e-02 -8.62505803e-02  3.11619660e-01 -2.56238806e-03\n",
            "  3.32239479e-01 -2.59277055e-02 -4.50125863e-02 -5.09084472e-02\n",
            " -3.61687950e-02 -4.07518719e-02  1.55135294e-01 -6.01987226e-02\n",
            " -6.73578991e-02 -6.33074634e-02 -6.27339427e-02  8.47108988e-03\n",
            "  2.33297072e-01  1.88985455e-02 -5.09084472e-02  1.25832495e-01\n",
            " -8.06239568e-02 -7.91499916e-02]\n"
          ]
        }
      ],
      "source": [
        "print(y_predict)"
      ]
    }
  ],
  "metadata": {
    "colab": {
      "include_colab_link": true,
      "provenance": []
    },
    "kernelspec": {
      "display_name": "Python 3 (ipykernel)",
      "language": "python",
      "name": "python3"
    },
    "language_info": {
      "codemirror_mode": {
        "name": "ipython",
        "version": 3
      },
      "file_extension": ".py",
      "mimetype": "text/x-python",
      "name": "python",
      "nbconvert_exporter": "python",
      "pygments_lexer": "ipython3",
      "version": "3.9.13"
    }
  },
  "nbformat": 4,
  "nbformat_minor": 5
}
