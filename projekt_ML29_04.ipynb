{
  "cells": [
    {
      "cell_type": "markdown",
      "id": "ca2414d7",
      "metadata": {
        "colab_type": "text",
        "id": "view-in-github"
      },
      "source": [
        "<a href=\"https://colab.research.google.com/github/JacobHassan/ProjektPUM/blob/main/projekt_ML.ipynb\" target=\"_parent\"><img src=\"https://colab.research.google.com/assets/colab-badge.svg\" alt=\"Open In Colab\"/></a>"
      ]
    },
    {
      "cell_type": "code",
      "execution_count": 98,
      "id": "f6fd7de6-d022-4551-9a2c-6d32cfc899e5",
      "metadata": {
        "id": "f6fd7de6-d022-4551-9a2c-6d32cfc899e5"
      },
      "outputs": [],
      "source": [
        "import pandas as pd\n",
        "import numpy as np\n",
        "from sklearn.preprocessing import LabelEncoder\n",
        "from sklearn import preprocessing\n",
        "import matplotlib.pyplot as plt\n",
        "import seaborn as sns\n",
        "from sklearn.decomposition import PCA\n",
        "from sklearn.model_selection import RepeatedKFold"
      ]
    },
    {
      "cell_type": "code",
      "execution_count": 60,
      "id": "8b610518",
      "metadata": {},
      "outputs": [
        {
          "name": "stdout",
          "output_type": "stream",
          "text": [
            "Collecting openpyxl\n",
            "  Downloading openpyxl-3.1.2-py2.py3-none-any.whl (249 kB)\n",
            "     -------------------------------------- 250.0/250.0 KB 3.1 MB/s eta 0:00:00\n",
            "Collecting et-xmlfile\n",
            "  Downloading et_xmlfile-1.1.0-py3-none-any.whl (4.7 kB)\n",
            "Installing collected packages: et-xmlfile, openpyxl\n",
            "Successfully installed et-xmlfile-1.1.0 openpyxl-3.1.2\n",
            "Note: you may need to restart the kernel to use updated packages.\n"
          ]
        },
        {
          "name": "stderr",
          "output_type": "stream",
          "text": [
            "WARNING: You are using pip version 22.0.4; however, version 24.0 is available.\n",
            "You should consider upgrading via the 'c:\\Users\\jabko\\AppData\\Local\\Programs\\Python\\Python39\\python.exe -m pip install --upgrade pip' command.\n"
          ]
        }
      ],
      "source": [
        "pip install"
      ]
    },
    {
      "cell_type": "code",
      "execution_count": 101,
      "id": "ac1a5a1d-9a92-445e-87df-ca01850c89b0",
      "metadata": {
        "id": "ac1a5a1d-9a92-445e-87df-ca01850c89b0"
      },
      "outputs": [],
      "source": [
        "df = pd.read_csv(r'NY-House-Dataset.csv',sep=';',\n",
        "                 index_col =  False,\n",
        "                 on_bad_lines='skip')\n"
      ]
    },
    {
      "cell_type": "code",
      "execution_count": 102,
      "id": "372e17eb-2378-4f89-a638-12f63234d9f3",
      "metadata": {
        "id": "372e17eb-2378-4f89-a638-12f63234d9f3"
      },
      "outputs": [],
      "source": [
        "headers = pd.read_csv(r'NY-House-Dataset.csv', sep=';',nrows=0)\n",
        "header_names = headers.columns.tolist()"
      ]
    },
    {
      "cell_type": "code",
      "execution_count": 103,
      "id": "795025f7-23c4-4edb-97eb-e17d02e9a8ea",
      "metadata": {
        "id": "795025f7-23c4-4edb-97eb-e17d02e9a8ea"
      },
      "outputs": [],
      "source": [
        "column_rename_dict = {old_name: new_name for old_name, new_name in zip(df.columns, header_names)}\n",
        "\n",
        "df.rename(columns=column_rename_dict, inplace=True)"
      ]
    },
    {
      "cell_type": "code",
      "execution_count": 104,
      "id": "96a689c9-00c5-4e8f-908a-b61c873809c8",
      "metadata": {
        "id": "96a689c9-00c5-4e8f-908a-b61c873809c8"
      },
      "outputs": [],
      "source": [
        "str_col = ['BROKERTITLE', 'TYPE', 'ADDRESS', 'STATE', 'MAIN_ADDRESS', 'ADMINISTRATIVE_AREA_LEVEL_2', 'LOCALITY', 'SUBLOCALITY', 'STREET_NAME' , 'LONG_NAME', 'FORMATTED_ADDRESS']\n",
        "int_col = ['BEDS', 'BATH','PROPERTYSQFT']\n",
        "float_col = ['PRICE']"
      ]
    },
    {
      "cell_type": "code",
      "execution_count": 105,
      "id": "9NNP5onz8AG9",
      "metadata": {
        "colab": {
          "base_uri": "https://localhost:8080/"
        },
        "id": "9NNP5onz8AG9",
        "outputId": "0e204a12-d0d7-4141-b02f-74af817c53a7"
      },
      "outputs": [
        {
          "data": {
            "text/plain": [
              "(4801, 17)"
            ]
          },
          "execution_count": 105,
          "metadata": {},
          "output_type": "execute_result"
        }
      ],
      "source": [
        "df.shape"
      ]
    },
    {
      "cell_type": "code",
      "execution_count": 106,
      "id": "ybNtilJ48C7R",
      "metadata": {
        "colab": {
          "base_uri": "https://localhost:8080/"
        },
        "id": "ybNtilJ48C7R",
        "outputId": "e2b02f66-c1dc-405d-bf86-d36b4cb44a2a"
      },
      "outputs": [
        {
          "data": {
            "text/plain": [
              "BROKERTITLE                    False\n",
              "TYPE                           False\n",
              "PRICE                          False\n",
              "BEDS                           False\n",
              "BATH                           False\n",
              "PROPERTYSQFT                   False\n",
              "ADDRESS                        False\n",
              "STATE                          False\n",
              "MAIN_ADDRESS                   False\n",
              "ADMINISTRATIVE_AREA_LEVEL_2    False\n",
              "LOCALITY                       False\n",
              "SUBLOCALITY                    False\n",
              "STREET_NAME                    False\n",
              "LONG_NAME                      False\n",
              "FORMATTED_ADDRESS              False\n",
              "LATITUDE                       False\n",
              "LONGITUDE                      False\n",
              "dtype: bool"
            ]
          },
          "execution_count": 106,
          "metadata": {},
          "output_type": "execute_result"
        }
      ],
      "source": [
        "df.isna().any()"
      ]
    },
    {
      "cell_type": "code",
      "execution_count": 107,
      "id": "d5434179-a563-46fd-9b25-06810bb323e0",
      "metadata": {
        "id": "d5434179-a563-46fd-9b25-06810bb323e0"
      },
      "outputs": [],
      "source": [
        "df[str_col] = df[str_col].apply(lambda x: x.astype(str))"
      ]
    },
    {
      "cell_type": "code",
      "execution_count": 108,
      "id": "0cf7efc8-613b-480a-948a-65cda904d661",
      "metadata": {
        "id": "0cf7efc8-613b-480a-948a-65cda904d661"
      },
      "outputs": [],
      "source": [
        "df[int_col] = df[int_col].apply(lambda x: x.astype(int))"
      ]
    },
    {
      "cell_type": "code",
      "execution_count": 109,
      "id": "644abb2c-878c-4128-9209-1aeae91b1665",
      "metadata": {
        "id": "644abb2c-878c-4128-9209-1aeae91b1665"
      },
      "outputs": [],
      "source": [
        "df[float_col] = df[float_col].apply(lambda x: x.astype(float))"
      ]
    },
    {
      "cell_type": "code",
      "execution_count": 110,
      "id": "6b62d6ea-88cd-4ede-ac20-5d540a1ec3b2",
      "metadata": {
        "id": "6b62d6ea-88cd-4ede-ac20-5d540a1ec3b2"
      },
      "outputs": [],
      "source": [
        "df.drop_duplicates(inplace = True)"
      ]
    },
    {
      "cell_type": "code",
      "execution_count": 111,
      "id": "Y1UYVITL9Hx-",
      "metadata": {
        "colab": {
          "base_uri": "https://localhost:8080/",
          "height": 73
        },
        "id": "Y1UYVITL9Hx-",
        "outputId": "eea6c3f4-dcc7-4560-ab33-03fae3065987"
      },
      "outputs": [
        {
          "data": {
            "text/html": [
              "<div>\n",
              "<style scoped>\n",
              "    .dataframe tbody tr th:only-of-type {\n",
              "        vertical-align: middle;\n",
              "    }\n",
              "\n",
              "    .dataframe tbody tr th {\n",
              "        vertical-align: top;\n",
              "    }\n",
              "\n",
              "    .dataframe thead th {\n",
              "        text-align: right;\n",
              "    }\n",
              "</style>\n",
              "<table border=\"1\" class=\"dataframe\">\n",
              "  <thead>\n",
              "    <tr style=\"text-align: right;\">\n",
              "      <th></th>\n",
              "      <th>BROKERTITLE</th>\n",
              "      <th>TYPE</th>\n",
              "      <th>PRICE</th>\n",
              "      <th>BEDS</th>\n",
              "      <th>BATH</th>\n",
              "      <th>PROPERTYSQFT</th>\n",
              "      <th>ADDRESS</th>\n",
              "      <th>STATE</th>\n",
              "      <th>MAIN_ADDRESS</th>\n",
              "      <th>ADMINISTRATIVE_AREA_LEVEL_2</th>\n",
              "      <th>LOCALITY</th>\n",
              "      <th>SUBLOCALITY</th>\n",
              "      <th>STREET_NAME</th>\n",
              "      <th>LONG_NAME</th>\n",
              "      <th>FORMATTED_ADDRESS</th>\n",
              "      <th>LATITUDE</th>\n",
              "      <th>LONGITUDE</th>\n",
              "    </tr>\n",
              "  </thead>\n",
              "  <tbody>\n",
              "  </tbody>\n",
              "</table>\n",
              "</div>"
            ],
            "text/plain": [
              "Empty DataFrame\n",
              "Columns: [BROKERTITLE, TYPE, PRICE, BEDS, BATH, PROPERTYSQFT, ADDRESS, STATE, MAIN_ADDRESS, ADMINISTRATIVE_AREA_LEVEL_2, LOCALITY, SUBLOCALITY, STREET_NAME, LONG_NAME, FORMATTED_ADDRESS, LATITUDE, LONGITUDE]\n",
              "Index: []"
            ]
          },
          "execution_count": 111,
          "metadata": {},
          "output_type": "execute_result"
        }
      ],
      "source": [
        "df.loc[df['BATH'] <0]"
      ]
    },
    {
      "cell_type": "code",
      "execution_count": 112,
      "id": "vW5ltfIM9M63",
      "metadata": {
        "colab": {
          "base_uri": "https://localhost:8080/",
          "height": 73
        },
        "id": "vW5ltfIM9M63",
        "outputId": "4a4940d4-58a7-4a8b-cdb7-35d335ca94b3"
      },
      "outputs": [
        {
          "data": {
            "text/html": [
              "<div>\n",
              "<style scoped>\n",
              "    .dataframe tbody tr th:only-of-type {\n",
              "        vertical-align: middle;\n",
              "    }\n",
              "\n",
              "    .dataframe tbody tr th {\n",
              "        vertical-align: top;\n",
              "    }\n",
              "\n",
              "    .dataframe thead th {\n",
              "        text-align: right;\n",
              "    }\n",
              "</style>\n",
              "<table border=\"1\" class=\"dataframe\">\n",
              "  <thead>\n",
              "    <tr style=\"text-align: right;\">\n",
              "      <th></th>\n",
              "      <th>BROKERTITLE</th>\n",
              "      <th>TYPE</th>\n",
              "      <th>PRICE</th>\n",
              "      <th>BEDS</th>\n",
              "      <th>BATH</th>\n",
              "      <th>PROPERTYSQFT</th>\n",
              "      <th>ADDRESS</th>\n",
              "      <th>STATE</th>\n",
              "      <th>MAIN_ADDRESS</th>\n",
              "      <th>ADMINISTRATIVE_AREA_LEVEL_2</th>\n",
              "      <th>LOCALITY</th>\n",
              "      <th>SUBLOCALITY</th>\n",
              "      <th>STREET_NAME</th>\n",
              "      <th>LONG_NAME</th>\n",
              "      <th>FORMATTED_ADDRESS</th>\n",
              "      <th>LATITUDE</th>\n",
              "      <th>LONGITUDE</th>\n",
              "    </tr>\n",
              "  </thead>\n",
              "  <tbody>\n",
              "  </tbody>\n",
              "</table>\n",
              "</div>"
            ],
            "text/plain": [
              "Empty DataFrame\n",
              "Columns: [BROKERTITLE, TYPE, PRICE, BEDS, BATH, PROPERTYSQFT, ADDRESS, STATE, MAIN_ADDRESS, ADMINISTRATIVE_AREA_LEVEL_2, LOCALITY, SUBLOCALITY, STREET_NAME, LONG_NAME, FORMATTED_ADDRESS, LATITUDE, LONGITUDE]\n",
              "Index: []"
            ]
          },
          "execution_count": 112,
          "metadata": {},
          "output_type": "execute_result"
        }
      ],
      "source": [
        "df.loc[df['PRICE'] <0]"
      ]
    },
    {
      "cell_type": "code",
      "execution_count": 113,
      "id": "JiOISkgk9Nc9",
      "metadata": {
        "colab": {
          "base_uri": "https://localhost:8080/",
          "height": 73
        },
        "id": "JiOISkgk9Nc9",
        "outputId": "9cb72565-1696-443a-ecb7-092adda12abf"
      },
      "outputs": [
        {
          "data": {
            "text/html": [
              "<div>\n",
              "<style scoped>\n",
              "    .dataframe tbody tr th:only-of-type {\n",
              "        vertical-align: middle;\n",
              "    }\n",
              "\n",
              "    .dataframe tbody tr th {\n",
              "        vertical-align: top;\n",
              "    }\n",
              "\n",
              "    .dataframe thead th {\n",
              "        text-align: right;\n",
              "    }\n",
              "</style>\n",
              "<table border=\"1\" class=\"dataframe\">\n",
              "  <thead>\n",
              "    <tr style=\"text-align: right;\">\n",
              "      <th></th>\n",
              "      <th>BROKERTITLE</th>\n",
              "      <th>TYPE</th>\n",
              "      <th>PRICE</th>\n",
              "      <th>BEDS</th>\n",
              "      <th>BATH</th>\n",
              "      <th>PROPERTYSQFT</th>\n",
              "      <th>ADDRESS</th>\n",
              "      <th>STATE</th>\n",
              "      <th>MAIN_ADDRESS</th>\n",
              "      <th>ADMINISTRATIVE_AREA_LEVEL_2</th>\n",
              "      <th>LOCALITY</th>\n",
              "      <th>SUBLOCALITY</th>\n",
              "      <th>STREET_NAME</th>\n",
              "      <th>LONG_NAME</th>\n",
              "      <th>FORMATTED_ADDRESS</th>\n",
              "      <th>LATITUDE</th>\n",
              "      <th>LONGITUDE</th>\n",
              "    </tr>\n",
              "  </thead>\n",
              "  <tbody>\n",
              "  </tbody>\n",
              "</table>\n",
              "</div>"
            ],
            "text/plain": [
              "Empty DataFrame\n",
              "Columns: [BROKERTITLE, TYPE, PRICE, BEDS, BATH, PROPERTYSQFT, ADDRESS, STATE, MAIN_ADDRESS, ADMINISTRATIVE_AREA_LEVEL_2, LOCALITY, SUBLOCALITY, STREET_NAME, LONG_NAME, FORMATTED_ADDRESS, LATITUDE, LONGITUDE]\n",
              "Index: []"
            ]
          },
          "execution_count": 113,
          "metadata": {},
          "output_type": "execute_result"
        }
      ],
      "source": [
        "df.loc[df['BEDS']<0]"
      ]
    },
    {
      "cell_type": "code",
      "execution_count": 114,
      "id": "FKF_RcYs9NtB",
      "metadata": {
        "colab": {
          "base_uri": "https://localhost:8080/",
          "height": 73
        },
        "id": "FKF_RcYs9NtB",
        "outputId": "6d2212f7-4131-4bb6-a946-c390ff866b33"
      },
      "outputs": [
        {
          "data": {
            "text/html": [
              "<div>\n",
              "<style scoped>\n",
              "    .dataframe tbody tr th:only-of-type {\n",
              "        vertical-align: middle;\n",
              "    }\n",
              "\n",
              "    .dataframe tbody tr th {\n",
              "        vertical-align: top;\n",
              "    }\n",
              "\n",
              "    .dataframe thead th {\n",
              "        text-align: right;\n",
              "    }\n",
              "</style>\n",
              "<table border=\"1\" class=\"dataframe\">\n",
              "  <thead>\n",
              "    <tr style=\"text-align: right;\">\n",
              "      <th></th>\n",
              "      <th>BROKERTITLE</th>\n",
              "      <th>TYPE</th>\n",
              "      <th>PRICE</th>\n",
              "      <th>BEDS</th>\n",
              "      <th>BATH</th>\n",
              "      <th>PROPERTYSQFT</th>\n",
              "      <th>ADDRESS</th>\n",
              "      <th>STATE</th>\n",
              "      <th>MAIN_ADDRESS</th>\n",
              "      <th>ADMINISTRATIVE_AREA_LEVEL_2</th>\n",
              "      <th>LOCALITY</th>\n",
              "      <th>SUBLOCALITY</th>\n",
              "      <th>STREET_NAME</th>\n",
              "      <th>LONG_NAME</th>\n",
              "      <th>FORMATTED_ADDRESS</th>\n",
              "      <th>LATITUDE</th>\n",
              "      <th>LONGITUDE</th>\n",
              "    </tr>\n",
              "  </thead>\n",
              "  <tbody>\n",
              "  </tbody>\n",
              "</table>\n",
              "</div>"
            ],
            "text/plain": [
              "Empty DataFrame\n",
              "Columns: [BROKERTITLE, TYPE, PRICE, BEDS, BATH, PROPERTYSQFT, ADDRESS, STATE, MAIN_ADDRESS, ADMINISTRATIVE_AREA_LEVEL_2, LOCALITY, SUBLOCALITY, STREET_NAME, LONG_NAME, FORMATTED_ADDRESS, LATITUDE, LONGITUDE]\n",
              "Index: []"
            ]
          },
          "execution_count": 114,
          "metadata": {},
          "output_type": "execute_result"
        }
      ],
      "source": [
        "df.loc[df['PROPERTYSQFT']<0]"
      ]
    },
    {
      "cell_type": "code",
      "execution_count": 115,
      "id": "b2bff8be-9e5c-4347-85e2-49f62068d38f",
      "metadata": {
        "id": "b2bff8be-9e5c-4347-85e2-49f62068d38f"
      },
      "outputs": [],
      "source": [
        "df['FORMATTED_ADDRESS'] = df['FORMATTED_ADDRESS'].apply(lambda x: x.replace('#', ''))\n"
      ]
    },
    {
      "cell_type": "code",
      "execution_count": 116,
      "id": "wFkUR7lT2PJR",
      "metadata": {
        "id": "wFkUR7lT2PJR"
      },
      "outputs": [],
      "source": [
        "le = LabelEncoder()"
      ]
    },
    {
      "cell_type": "code",
      "execution_count": 117,
      "id": "rFNuOYUf3gg1",
      "metadata": {
        "id": "rFNuOYUf3gg1"
      },
      "outputs": [],
      "source": [
        "columns_to_encode = ['TYPE', 'STATE', 'ADMINISTRATIVE_AREA_LEVEL_2', 'LOCALITY', 'SUBLOCALITY', 'STREET_NAME']\n"
      ]
    },
    {
      "cell_type": "code",
      "execution_count": 118,
      "id": "XQCxCrId3iNe",
      "metadata": {
        "id": "XQCxCrId3iNe"
      },
      "outputs": [],
      "source": [
        "df[columns_to_encode] = df[columns_to_encode].apply(LabelEncoder().fit_transform)"
      ]
    },
    {
      "cell_type": "code",
      "execution_count": 119,
      "id": "EP9ULioP-ONJ",
      "metadata": {
        "id": "EP9ULioP-ONJ"
      },
      "outputs": [],
      "source": [
        "df.to_excel('test.xlsx')"
      ]
    },
    {
      "cell_type": "code",
      "execution_count": 120,
      "id": "OZv8KI3McBgz",
      "metadata": {
        "id": "OZv8KI3McBgz"
      },
      "outputs": [],
      "source": [
        "numeric_columns = ['BEDS', 'BATH', 'PROPERTYSQFT', 'PRICE']\n",
        "df_numeric = df[numeric_columns]\n",
        "\n",
        "scaler = preprocessing.StandardScaler().fit(df_numeric)\n",
        "\n",
        "\n",
        "df_scaled = pd.DataFrame(scaler.transform(df_numeric), columns=numeric_columns)\n",
        "\n",
        "\n",
        "df[numeric_columns] = df_scaled"
      ]
    },
    {
      "cell_type": "code",
      "execution_count": 121,
      "id": "c44c2320",
      "metadata": {},
      "outputs": [],
      "source": [
        "X = df[['BATH', 'BEDS', 'PROPERTYSQFT']]\n",
        "y = df['PRICE']"
      ]
    },
    {
      "cell_type": "code",
      "execution_count": 122,
      "id": "2da281c2",
      "metadata": {},
      "outputs": [],
      "source": [
        "X = X.dropna()\n",
        "y = y[X.index]\n"
      ]
    },
    {
      "cell_type": "code",
      "execution_count": 123,
      "id": "176ee2cb",
      "metadata": {},
      "outputs": [
        {
          "data": {
            "text/plain": [
              "<Axes: >"
            ]
          },
          "execution_count": 123,
          "metadata": {},
          "output_type": "execute_result"
        },
        {
          "data": {
            "image/png": "[encoded data removed]",
            "text/plain": [
              "<Figure size 640x480 with 2 Axes>"
            ]
          },
          "metadata": {},
          "output_type": "display_data"
        }
      ],
      "source": [
        "selected_df =  df[['BATH', 'BEDS', 'PROPERTYSQFT']]\n",
        "sns.heatmap(selected_df.corr(), annot=True, cmap='coolwarm', linewidths=0.5, fmt=\".2f\")"
      ]
    },
    {
      "cell_type": "code",
      "execution_count": 35,
      "id": "b1bf0e6e",
      "metadata": {},
      "outputs": [
        {
          "data": {
            "text/plain": [
              "<Axes: >"
            ]
          },
          "execution_count": 35,
          "metadata": {},
          "output_type": "execute_result"
        },
        {
          "data": {
            "image/png": "[encoded data removed]",
            "text/plain": [
              "<Figure size 640x480 with 2 Axes>"
            ]
          },
          "metadata": {},
          "output_type": "display_data"
        }
      ],
      "source": [
        "#Powinny byc chyba tyko X ale nie jestem pewien \n",
        "#selected_df = df[['PRICE', 'BEDS', 'BATH', 'PROPERTYSQFT']]\n",
        "#sns.heatmap(selected_df.corr(), annot=True, cmap='coolwarm', linewidths=0.5, fmt=\".2f\")"
      ]
    },
    {
      "cell_type": "code",
      "execution_count": 124,
      "id": "4b2e24ae",
      "metadata": {},
      "outputs": [
        {
          "data": {
            "image/png": "[encoded data removed]",
            "text/plain": [
              "<Figure size 640x480 with 1 Axes>"
            ]
          },
          "metadata": {},
          "output_type": "display_data"
        }
      ],
      "source": [
        "# Select the columns\n",
        "cor_df = df[['PRICE', 'BEDS', 'BATH', 'PROPERTYSQFT',]]\n",
        "\n",
        "# Calculate the correlation with 'PRICE'\n",
        "correlation = cor_df.corr()['PRICE'].drop('PRICE')\n",
        "\n",
        "# Plot the correlation values\n",
        "correlation.sort_values().plot(kind='bar')\n",
        "plt.title('Correlation with PRICE')\n",
        "plt.ylabel('Correlation')\n",
        "plt.show()"
      ]
    },
    {
      "cell_type": "code",
      "execution_count": 125,
      "id": "802667ba",
      "metadata": {},
      "outputs": [
        {
          "data": {
            "image/png": "[encoded data removed]",
            "text/plain": [
              "<Figure size 800x600 with 1 Axes>"
            ]
          },
          "metadata": {},
          "output_type": "display_data"
        }
      ],
      "source": [
        "\n",
        "selected_df = selected_df.dropna()\n",
        "pca = PCA(n_components=2)\n",
        "X_pca = pca.fit_transform(selected_df)\n",
        "df_pca = pd.DataFrame(data = X_pca, columns = ['principal component 1', 'principal component 2'])\n",
        "\n",
        "\n",
        "plt.figure(figsize=(8,6))\n",
        "plt.scatter(df_pca['principal component 1'], df_pca['principal component 2'])\n",
        "plt.xlabel('First Principal Component')\n",
        "plt.ylabel('Second Principal Component')\n",
        "plt.show()"
      ]
    },
    {
      "cell_type": "code",
      "execution_count": 126,
      "id": "abc80cf9",
      "metadata": {},
      "outputs": [
        {
          "data": {
            "text/plain": [
              "BROKERTITLE                     object\n",
              "TYPE                             int32\n",
              "PRICE                          float64\n",
              "BEDS                           float64\n",
              "BATH                           float64\n",
              "PROPERTYSQFT                   float64\n",
              "ADDRESS                         object\n",
              "STATE                            int32\n",
              "MAIN_ADDRESS                    object\n",
              "ADMINISTRATIVE_AREA_LEVEL_2      int32\n",
              "LOCALITY                         int32\n",
              "SUBLOCALITY                      int32\n",
              "STREET_NAME                      int32\n",
              "LONG_NAME                       object\n",
              "FORMATTED_ADDRESS               object\n",
              "LATITUDE                       float64\n",
              "LONGITUDE                      float64\n",
              "dtype: object"
            ]
          },
          "execution_count": 126,
          "metadata": {},
          "output_type": "execute_result"
        }
      ],
      "source": [
        "df.dtypes"
      ]
    },
    {
      "cell_type": "code",
      "execution_count": 127,
      "id": "683d7d72",
      "metadata": {},
      "outputs": [],
      "source": [
        "from sklearn.model_selection import train_test_split\n",
        "from sklearn.linear_model import LinearRegression\n",
        "X_train, X_test, y_train, y_test = train_test_split(X, y, test_size=0.3, random_state=42)\n",
        "reg = LinearRegression().fit(X_train, y_train)\n",
        "reg.coef_\n",
        "reg.intercept_\n",
        "y_predict = reg.predict(X_test)"
      ]
    },
    {
      "cell_type": "code",
      "execution_count": 128,
      "id": "2b42fe0d",
      "metadata": {},
      "outputs": [
        {
          "data": {
            "image/png": "[encoded data removed]",
            "text/plain": [
              "<Figure size 800x600 with 1 Axes>"
            ]
          },
          "metadata": {},
          "output_type": "display_data"
        }
      ],
      "source": [
        "plt.figure(figsize=(8, 6))\n",
        "plt.scatter(y_test, y_predict, color='pink')\n",
        "plt.plot([y_test.min(), y_test.max()], [y_test.min(), y_test.max()], color='blue', linestyle='--', linewidth=2)\n",
        "plt.xlabel('Rzeczywiste wartości')\n",
        "plt.ylabel('Przewidywane wartości')\n",
        "plt.title('Regresja liniowa')\n",
        "plt.grid(True)\n",
        "plt.show()"
      ]
    },
    {
      "cell_type": "code",
      "execution_count": 129,
      "id": "4b43411b",
      "metadata": {},
      "outputs": [],
      "source": [
        "from sklearn.metrics import mean_absolute_error, median_absolute_error, r2_score\n",
        "from sklearn.linear_model import  HuberRegressor"
      ]
    },
    {
      "cell_type": "code",
      "execution_count": 131,
      "id": "0189c4d9",
      "metadata": {},
      "outputs": [
        {
          "data": {
            "text/plain": [
              "0.06577736277106458"
            ]
          },
          "execution_count": 131,
          "metadata": {},
          "output_type": "execute_result"
        }
      ],
      "source": [
        "y_true = y_test\n",
        "mean_absolute_error(y_true,y_predict)"
      ]
    },
    {
      "cell_type": "code",
      "execution_count": 132,
      "id": "9f19ec0d",
      "metadata": {},
      "outputs": [
        {
          "data": {
            "text/plain": [
              "0.041449745043020556"
            ]
          },
          "execution_count": 132,
          "metadata": {},
          "output_type": "execute_result"
        }
      ],
      "source": [
        "y_true = y_test\n",
        "median_absolute_error(y_true,y_predict)"
      ]
    },
    {
      "cell_type": "markdown",
      "id": "cd0baf62",
      "metadata": {},
      "source": [
        "SŁABE DOPASOWANIE DANYCH DO MODELU NA POZIOMIE 17%"
      ]
    },
    {
      "cell_type": "code",
      "execution_count": 134,
      "id": "2284975c",
      "metadata": {},
      "outputs": [
        {
          "data": {
            "text/plain": [
              "-1.1038854414557742"
            ]
          },
          "execution_count": 134,
          "metadata": {},
          "output_type": "execute_result"
        }
      ],
      "source": [
        "y_true = y_test\n",
        "r2_score(y_true,y_predict)"
      ]
    },
    {
      "cell_type": "code",
      "execution_count": 145,
      "id": "e8170b43",
      "metadata": {},
      "outputs": [],
      "source": [
        "huber = HuberRegressor().fit(X_train, y_train)\n",
        "huber.coef_\n",
        "huber.intercept_\n",
        "y_predict_huber = huber.predict(X_test)"
      ]
    },
    {
      "cell_type": "code",
      "execution_count": 136,
      "id": "9f72eb0a",
      "metadata": {},
      "outputs": [
        {
          "data": {
            "text/plain": [
              "0.03567176337736954"
            ]
          },
          "execution_count": 136,
          "metadata": {},
          "output_type": "execute_result"
        }
      ],
      "source": [
        "y_true = y_test\n",
        "mean_absolute_error(y_true,y_predict_huber)"
      ]
    },
    {
      "cell_type": "code",
      "execution_count": 137,
      "id": "03ae080f",
      "metadata": {},
      "outputs": [
        {
          "data": {
            "text/plain": [
              "0.011043877503444322"
            ]
          },
          "execution_count": 137,
          "metadata": {},
          "output_type": "execute_result"
        }
      ],
      "source": [
        "\n",
        "y_true = y_test\n",
        "median_absolute_error(y_true,y_predict_huber)\n",
        "     "
      ]
    },
    {
      "cell_type": "markdown",
      "id": "2b15961f",
      "metadata": {},
      "source": [
        "SŁABE DOPASOWANIE DANYCH DO MODELU NA POZIOMIE 19%"
      ]
    },
    {
      "cell_type": "code",
      "execution_count": 138,
      "id": "55b7b253",
      "metadata": {},
      "outputs": [
        {
          "data": {
            "text/plain": [
              "0.19668270937025245"
            ]
          },
          "execution_count": 138,
          "metadata": {},
          "output_type": "execute_result"
        }
      ],
      "source": [
        "y_true = y_test\n",
        "r2_score(y_true,y_predict_huber)"
      ]
    },
    {
      "cell_type": "code",
      "execution_count": 141,
      "id": "7ca05bd5",
      "metadata": {},
      "outputs": [
        {
          "name": "stdout",
          "output_type": "stream",
          "text": [
            "[-0.05846978 -0.05642938 -0.05917343 -0.05916568 -0.12212773 -0.05396956\n",
            " -0.11755834 -0.06341557 -0.07069467 -0.05461393 -0.06653152 -0.06331708\n",
            " -0.05740644 -0.11901917 -0.05527878]\n"
          ]
        }
      ],
      "source": [
        "from sklearn.model_selection import cross_val_score\n",
        "rkf = RepeatedKFold(n_splits=5, n_repeats=3, random_state=42)\n",
        "lin = LinearRegression()\n",
        "cv_scores = cross_val_score(lin, X , y, cv=rkf, scoring='neg_mean_absolute_error')\n",
        "print(cv_scores)"
      ]
    }
  ],
  "metadata": {
    "colab": {
      "include_colab_link": true,
      "provenance": []
    },
    "kernelspec": {
      "display_name": "Python 3 (ipykernel)",
      "language": "python",
      "name": "python3"
    },
    "language_info": {
      "codemirror_mode": {
        "name": "ipython",
        "version": 3
      },
      "file_extension": ".py",
      "mimetype": "text/x-python",
      "name": "python",
      "nbconvert_exporter": "python",
      "pygments_lexer": "ipython3",
      "version": "3.9.13"
    }
  },
  "nbformat": 4,
  "nbformat_minor": 5
}
